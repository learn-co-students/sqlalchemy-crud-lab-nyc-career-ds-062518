{
 "cells": [
  {
   "cell_type": "markdown",
   "metadata": {},
   "source": [
    "# SQLAlchemy CRUD Lab"
   ]
  },
  {
   "cell_type": "markdown",
   "metadata": {},
   "source": [
    "In this lab we will once again use SQLAlchemy to create a database and add a table. We will also work with a session to insert data into the table, update data already on the table, and delete data from the table. By the end of the lab, we will be comfortable using sessions to interact with and make changes to the table in our database."
   ]
  },
  {
   "cell_type": "markdown",
   "metadata": {},
   "source": [
    "### Objective\n",
    "\n",
    "* Become comfortable performing CRUD (Create, Read, Update, Delete) actions with SQLAlchemy"
   ]
  },
  {
   "cell_type": "markdown",
   "metadata": {},
   "source": [
    "### Sessions"
   ]
  },
  {
   "cell_type": "markdown",
   "metadata": {},
   "source": [
    "Recall that the `Session` establishes all communication with the database.  The `Session` object follows the [Unit of Work](https://martinfowler.com/eaaCatalog/unitOfWork.html) pattern for interacting with the database.  It keeps track of all changes separately in an ongoing transaction until we explicitly commit the changes to the database.  In other words, the session logs all the changes we make separately, whether they be table inserts, updates, or deletes, until we tell it to **flush** the session with `session.commit()`."
   ]
  },
  {
   "cell_type": "markdown",
   "metadata": {},
   "source": [
    "As we saw in the previous lab, we create a session by establishing a connection to the database with `create_engine`.\n",
    "\n",
    ">     engine = create_engine('sqlite:///states.db', echo=True)\n",
    "\n",
    "Then we bind our new session to the engine to establish a connection to our database.\n",
    "\n",
    ">     Session = sessionmaker(bind=engine)\n",
    ">     session = Session()\n"
   ]
  },
  {
   "cell_type": "markdown",
   "metadata": {},
   "source": [
    "### Instructions"
   ]
  },
  {
   "cell_type": "markdown",
   "metadata": {},
   "source": [
    "#### Create the table"
   ]
  },
  {
   "cell_type": "markdown",
   "metadata": {},
   "source": [
    "Create the `states` table in the `schema.py` file.  We have provided you with all of the code for configuring the database.  Every state has an `id` (set as the primary key), a `name`, a `capital_city`, a `population`, and a `landlocked` column that holds a boolean for whether the state borders a body of water.\n",
    "\n",
    "Once this task is completed, move onto the `states_controller.py` file.  There is no need to run `python schema.py` in the terminal to create the database and schema since the tests automatically execute this file."
   ]
  },
  {
   "cell_type": "markdown",
   "metadata": {},
   "source": [
    "#### CREATE\n",
    "\n",
    "We will write all of our CRUD actions in the `states_controller.py` file.  We provided the starter code for starting a session in the first method to get you going.\n",
    "\n",
    "* New York\n",
    "    - name: 'New York'\n",
    "    - capital: 'Albany'\n",
    "    - population: 20000000\n",
    "    - landlocked: no\n",
    "    \n",
    "* Wyoming\n",
    "    - name: 'Wyoming'\n",
    "    - capital: 'Cheyenne'\n",
    "    - population: 579315\n",
    "    - landlocked: yes"
   ]
  },
  {
   "cell_type": "code",
   "execution_count": 1,
   "metadata": {
    "scrolled": true
   },
   "outputs": [],
   "source": [
    "from sqlalchemy import *\n",
    "from sqlalchemy.ext.declarative import declarative_base\n",
    "Base = declarative_base()\n",
    "class State(Base):\n",
    "    __tablename__ = 'states'\n",
    "    id = Column(Integer, primary_key = True)\n",
    "    name = Column(Text)\n",
    "    capital_city = Column(Text)\n",
    "    population = Column(Integer)\n",
    "    landlocked = Column(Boolean)\n",
    "engine = create_engine('sqlite:///states.db', echo=True)"
   ]
  },
  {
   "cell_type": "code",
   "execution_count": 2,
   "metadata": {},
   "outputs": [
    {
     "name": "stdout",
     "output_type": "stream",
     "text": [
      "2018-07-11 16:34:16,623 INFO sqlalchemy.engine.base.Engine SELECT CAST('test plain returns' AS VARCHAR(60)) AS anon_1\n",
      "2018-07-11 16:34:16,627 INFO sqlalchemy.engine.base.Engine ()\n",
      "2018-07-11 16:34:16,631 INFO sqlalchemy.engine.base.Engine SELECT CAST('test unicode returns' AS VARCHAR(60)) AS anon_1\n",
      "2018-07-11 16:34:16,633 INFO sqlalchemy.engine.base.Engine ()\n",
      "2018-07-11 16:34:16,638 INFO sqlalchemy.engine.base.Engine PRAGMA table_info(\"states\")\n",
      "2018-07-11 16:34:16,639 INFO sqlalchemy.engine.base.Engine ()\n"
     ]
    }
   ],
   "source": [
    "Base.metadata.create_all(engine)"
   ]
  },
  {
   "cell_type": "code",
   "execution_count": 3,
   "metadata": {},
   "outputs": [],
   "source": [
    "from sqlalchemy.orm import sessionmaker"
   ]
  },
  {
   "cell_type": "code",
   "execution_count": 4,
   "metadata": {},
   "outputs": [],
   "source": [
    "Session = sessionmaker(bind=engine)\n",
    "session = Session()"
   ]
  },
  {
   "cell_type": "code",
   "execution_count": 5,
   "metadata": {
    "scrolled": true
   },
   "outputs": [
    {
     "name": "stdout",
     "output_type": "stream",
     "text": [
      "2018-07-11 16:34:16,679 INFO sqlalchemy.engine.base.Engine BEGIN (implicit)\n",
      "2018-07-11 16:34:16,683 INFO sqlalchemy.engine.base.Engine INSERT INTO states (name, capital_city, population, landlocked) VALUES (?, ?, ?, ?)\n",
      "2018-07-11 16:34:16,687 INFO sqlalchemy.engine.base.Engine ('New York', 'Albany', 20000000, 0)\n",
      "2018-07-11 16:34:16,692 INFO sqlalchemy.engine.base.Engine COMMIT\n",
      "2018-07-11 16:34:16,702 INFO sqlalchemy.engine.base.Engine BEGIN (implicit)\n",
      "2018-07-11 16:34:16,704 INFO sqlalchemy.engine.base.Engine INSERT INTO states (name, capital_city, population, landlocked) VALUES (?, ?, ?, ?)\n",
      "2018-07-11 16:34:16,705 INFO sqlalchemy.engine.base.Engine ('Wyoming', 'Cheyenne', 579315, 1)\n",
      "2018-07-11 16:34:16,707 INFO sqlalchemy.engine.base.Engine COMMIT\n"
     ]
    }
   ],
   "source": [
    "new_york = State(name = 'New York', capital_city = 'Albany', population = 20000000, landlocked = False)\n",
    "session.add(new_york)\n",
    "session.commit()\n",
    "wyoming = State(name = 'Wyoming', capital_city = 'Cheyenne', population = 579315, landlocked = True)\n",
    "session.add(wyoming)\n",
    "session.commit()"
   ]
  },
  {
   "cell_type": "markdown",
   "metadata": {},
   "source": [
    "#### READ\n",
    "\n",
    "* Query all states in the database\n",
    "\n",
    "For now, we will just query all the data in our table.  We will explore more advanced queries in a later lesson.  Use `session.query()` and `.all()` to pull everything off of the table and set it to a variable.  Return this variable to get the test to pass."
   ]
  },
  {
   "cell_type": "code",
   "execution_count": 9,
   "metadata": {},
   "outputs": [
    {
     "name": "stdout",
     "output_type": "stream",
     "text": [
      "2018-07-11 16:35:17,157 INFO sqlalchemy.engine.base.Engine BEGIN (implicit)\n",
      "2018-07-11 16:35:17,159 INFO sqlalchemy.engine.base.Engine INSERT INTO states (name, capital_city, population, landlocked) VALUES (?, ?, ?, ?)\n",
      "2018-07-11 16:35:17,160 INFO sqlalchemy.engine.base.Engine ('California', 'Sacramento', 40000000, 0)\n",
      "2018-07-11 16:35:17,162 INFO sqlalchemy.engine.base.Engine COMMIT\n"
     ]
    }
   ],
   "source": [
    "Session = sessionmaker(bind=engine)\n",
    "session = Session()\n",
    "cali = State(name=\"California\", capital_city=\"Sacramento\", population=40000000, landlocked=False)\n",
    "session.add(cali)\n",
    "session.commit()"
   ]
  },
  {
   "cell_type": "code",
   "execution_count": 6,
   "metadata": {},
   "outputs": [],
   "source": [
    "def create_cali():\n",
    "    Session = sessionmaker(bind=engine)\n",
    "    session = Session()\n",
    "    cali = State(name=\"California\", capital_city=\"Sacramento\", population=40000000, landlocked=False)\n",
    "    session.add(cali)\n",
    "    session.commit()"
   ]
  },
  {
   "cell_type": "code",
   "execution_count": 26,
   "metadata": {},
   "outputs": [
    {
     "name": "stdout",
     "output_type": "stream",
     "text": [
      "2018-07-11 16:48:19,958 INFO sqlalchemy.engine.base.Engine SELECT states.id AS states_id, states.name AS states_name, states.capital_city AS states_capital_city, states.population AS states_population, states.landlocked AS states_landlocked \n",
      "FROM states \n",
      "WHERE states.name = ?\n",
      " LIMIT ? OFFSET ?\n",
      "2018-07-11 16:48:19,960 INFO sqlalchemy.engine.base.Engine ('California', 1, 0)\n",
      "2018-07-11 16:48:19,962 INFO sqlalchemy.engine.base.Engine COMMIT\n"
     ]
    }
   ],
   "source": [
    "cali = session.query(State).filter_by(name = 'California').first()\n",
    "cali.population = 50000000\n",
    "session.commit()"
   ]
  },
  {
   "cell_type": "code",
   "execution_count": 8,
   "metadata": {},
   "outputs": [
    {
     "name": "stdout",
     "output_type": "stream",
     "text": [
      "2018-07-11 16:34:16,777 INFO sqlalchemy.engine.base.Engine PRAGMA table_info(\"states\")\n",
      "2018-07-11 16:34:16,781 INFO sqlalchemy.engine.base.Engine ()\n"
     ]
    }
   ],
   "source": [
    "Base.metadata.create_all(engine)"
   ]
  },
  {
   "cell_type": "markdown",
   "metadata": {},
   "source": [
    "#### UPDATE\n",
    "\n",
    "First, uncomment the `create_cali()` function.  \n",
    "\n",
    "Then in the `update_cali()` function:\n",
    "\n",
    "* Find California by using `session.query()` in conjunction with `filter_by`.  You can read about the latter method [here](http://docs.sqlalchemy.org/en/latest/orm/query.html#sqlalchemy.orm.query.Query.filter_by).\n",
    "\n",
    "* Change California's population to 50000000 then commit the update."
   ]
  },
  {
   "cell_type": "markdown",
   "metadata": {},
   "source": [
    "#### DELETE\n",
    "\n",
    "First, uncomment the `create_connecticut()` function.  \n",
    "\n",
    "Then in  the `delete_connecticut()`:\n",
    "\n",
    "* Find the Connecticut object\n",
    "* Delete it from the database "
   ]
  },
  {
   "cell_type": "markdown",
   "metadata": {},
   "source": [
    "### Session Rollbacks"
   ]
  },
  {
   "cell_type": "markdown",
   "metadata": {},
   "source": [
    "Remember if we mistakenly change data during a session, we can rollback the error as long as we haven't already committed those changes to the database.  In the final method, uncomment the code for adding West Dakota to the table.  Write a rollback so that this \"state\" doesn't get added to the database when we commit the session."
   ]
  },
  {
   "cell_type": "markdown",
   "metadata": {},
   "source": [
    "## Summary\n",
    "\n",
    "In this lab, we practiced setting up a connection to our database and creating a session. We then practiced defining CRUD functions that would create, read, update, and delete information from our database. "
   ]
  }
 ],
 "metadata": {
  "kernelspec": {
   "display_name": "Python 3",
   "language": "python",
   "name": "python3"
  },
  "language_info": {
   "codemirror_mode": {
    "name": "ipython",
    "version": 3
   },
   "file_extension": ".py",
   "mimetype": "text/x-python",
   "name": "python",
   "nbconvert_exporter": "python",
   "pygments_lexer": "ipython3",
   "version": "3.6.6"
  }
 },
 "nbformat": 4,
 "nbformat_minor": 2
}
